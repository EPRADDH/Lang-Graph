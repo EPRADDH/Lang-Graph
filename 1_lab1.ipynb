{
 "cells": [
  {
   "cell_type": "markdown",
   "metadata": {},
   "source": [
    "## Welcome back to Python Notebooks!\n",
    "LangGraph!"
   ]
  },
  {
   "cell_type": "code",
   "execution_count": 11,
   "metadata": {},
   "outputs": [
    {
     "name": "stdout",
     "output_type": "stream",
     "text": [
      "Collecting langchain_openai\n",
      "  Downloading langchain_openai-0.3.26-py3-none-any.whl.metadata (2.3 kB)\n",
      "Requirement already satisfied: langchain-core<1.0.0,>=0.3.66 in c:\\users\\pradeep.dhote\\psa-parcel-detector\\.conda\\lib\\site-packages (from langchain_openai) (0.3.66)\n",
      "Collecting openai<2.0.0,>=1.86.0 (from langchain_openai)\n",
      "  Downloading openai-1.92.2-py3-none-any.whl.metadata (29 kB)\n",
      "Collecting tiktoken<1,>=0.7 (from langchain_openai)\n",
      "  Using cached tiktoken-0.9.0-cp312-cp312-win_amd64.whl.metadata (6.8 kB)\n",
      "Requirement already satisfied: langsmith>=0.3.45 in c:\\users\\pradeep.dhote\\psa-parcel-detector\\.conda\\lib\\site-packages (from langchain-core<1.0.0,>=0.3.66->langchain_openai) (0.4.3)\n",
      "Requirement already satisfied: tenacity!=8.4.0,<10.0.0,>=8.1.0 in c:\\users\\pradeep.dhote\\psa-parcel-detector\\.conda\\lib\\site-packages (from langchain-core<1.0.0,>=0.3.66->langchain_openai) (9.1.2)\n",
      "Requirement already satisfied: jsonpatch<2.0,>=1.33 in c:\\users\\pradeep.dhote\\psa-parcel-detector\\.conda\\lib\\site-packages (from langchain-core<1.0.0,>=0.3.66->langchain_openai) (1.33)\n",
      "Requirement already satisfied: PyYAML>=5.3 in c:\\users\\pradeep.dhote\\psa-parcel-detector\\.conda\\lib\\site-packages (from langchain-core<1.0.0,>=0.3.66->langchain_openai) (6.0.2)\n",
      "Requirement already satisfied: packaging<25,>=23.2 in c:\\users\\pradeep.dhote\\psa-parcel-detector\\.conda\\lib\\site-packages (from langchain-core<1.0.0,>=0.3.66->langchain_openai) (24.2)\n",
      "Requirement already satisfied: typing-extensions>=4.7 in c:\\users\\pradeep.dhote\\psa-parcel-detector\\.conda\\lib\\site-packages (from langchain-core<1.0.0,>=0.3.66->langchain_openai) (4.14.0)\n",
      "Requirement already satisfied: pydantic>=2.7.4 in c:\\users\\pradeep.dhote\\psa-parcel-detector\\.conda\\lib\\site-packages (from langchain-core<1.0.0,>=0.3.66->langchain_openai) (2.11.7)\n",
      "Requirement already satisfied: anyio<5,>=3.5.0 in c:\\users\\pradeep.dhote\\psa-parcel-detector\\.conda\\lib\\site-packages (from openai<2.0.0,>=1.86.0->langchain_openai) (4.9.0)\n",
      "Collecting distro<2,>=1.7.0 (from openai<2.0.0,>=1.86.0->langchain_openai)\n",
      "  Using cached distro-1.9.0-py3-none-any.whl.metadata (6.8 kB)\n",
      "Requirement already satisfied: httpx<1,>=0.23.0 in c:\\users\\pradeep.dhote\\psa-parcel-detector\\.conda\\lib\\site-packages (from openai<2.0.0,>=1.86.0->langchain_openai) (0.28.1)\n",
      "Collecting jiter<1,>=0.4.0 (from openai<2.0.0,>=1.86.0->langchain_openai)\n",
      "  Using cached jiter-0.10.0-cp312-cp312-win_amd64.whl.metadata (5.3 kB)\n",
      "Requirement already satisfied: sniffio in c:\\users\\pradeep.dhote\\psa-parcel-detector\\.conda\\lib\\site-packages (from openai<2.0.0,>=1.86.0->langchain_openai) (1.3.1)\n",
      "Requirement already satisfied: tqdm>4 in c:\\users\\pradeep.dhote\\psa-parcel-detector\\.conda\\lib\\site-packages (from openai<2.0.0,>=1.86.0->langchain_openai) (4.67.1)\n",
      "Collecting regex>=2022.1.18 (from tiktoken<1,>=0.7->langchain_openai)\n",
      "  Using cached regex-2024.11.6-cp312-cp312-win_amd64.whl.metadata (41 kB)\n",
      "Requirement already satisfied: requests>=2.26.0 in c:\\users\\pradeep.dhote\\psa-parcel-detector\\.conda\\lib\\site-packages (from tiktoken<1,>=0.7->langchain_openai) (2.32.4)\n",
      "Requirement already satisfied: idna>=2.8 in c:\\users\\pradeep.dhote\\psa-parcel-detector\\.conda\\lib\\site-packages (from anyio<5,>=3.5.0->openai<2.0.0,>=1.86.0->langchain_openai) (3.10)\n",
      "Requirement already satisfied: certifi in c:\\users\\pradeep.dhote\\psa-parcel-detector\\.conda\\lib\\site-packages (from httpx<1,>=0.23.0->openai<2.0.0,>=1.86.0->langchain_openai) (2025.6.15)\n",
      "Requirement already satisfied: httpcore==1.* in c:\\users\\pradeep.dhote\\psa-parcel-detector\\.conda\\lib\\site-packages (from httpx<1,>=0.23.0->openai<2.0.0,>=1.86.0->langchain_openai) (1.0.9)\n",
      "Requirement already satisfied: h11>=0.16 in c:\\users\\pradeep.dhote\\psa-parcel-detector\\.conda\\lib\\site-packages (from httpcore==1.*->httpx<1,>=0.23.0->openai<2.0.0,>=1.86.0->langchain_openai) (0.16.0)\n",
      "Requirement already satisfied: jsonpointer>=1.9 in c:\\users\\pradeep.dhote\\psa-parcel-detector\\.conda\\lib\\site-packages (from jsonpatch<2.0,>=1.33->langchain-core<1.0.0,>=0.3.66->langchain_openai) (3.0.0)\n",
      "Requirement already satisfied: orjson<4.0.0,>=3.9.14 in c:\\users\\pradeep.dhote\\psa-parcel-detector\\.conda\\lib\\site-packages (from langsmith>=0.3.45->langchain-core<1.0.0,>=0.3.66->langchain_openai) (3.10.18)\n",
      "Requirement already satisfied: requests-toolbelt<2.0.0,>=1.0.0 in c:\\users\\pradeep.dhote\\psa-parcel-detector\\.conda\\lib\\site-packages (from langsmith>=0.3.45->langchain-core<1.0.0,>=0.3.66->langchain_openai) (1.0.0)\n",
      "Requirement already satisfied: zstandard<0.24.0,>=0.23.0 in c:\\users\\pradeep.dhote\\psa-parcel-detector\\.conda\\lib\\site-packages (from langsmith>=0.3.45->langchain-core<1.0.0,>=0.3.66->langchain_openai) (0.23.0)\n",
      "Requirement already satisfied: annotated-types>=0.6.0 in c:\\users\\pradeep.dhote\\psa-parcel-detector\\.conda\\lib\\site-packages (from pydantic>=2.7.4->langchain-core<1.0.0,>=0.3.66->langchain_openai) (0.7.0)\n",
      "Requirement already satisfied: pydantic-core==2.33.2 in c:\\users\\pradeep.dhote\\psa-parcel-detector\\.conda\\lib\\site-packages (from pydantic>=2.7.4->langchain-core<1.0.0,>=0.3.66->langchain_openai) (2.33.2)\n",
      "Requirement already satisfied: typing-inspection>=0.4.0 in c:\\users\\pradeep.dhote\\psa-parcel-detector\\.conda\\lib\\site-packages (from pydantic>=2.7.4->langchain-core<1.0.0,>=0.3.66->langchain_openai) (0.4.1)\n",
      "Requirement already satisfied: charset_normalizer<4,>=2 in c:\\users\\pradeep.dhote\\psa-parcel-detector\\.conda\\lib\\site-packages (from requests>=2.26.0->tiktoken<1,>=0.7->langchain_openai) (3.4.2)\n",
      "Requirement already satisfied: urllib3<3,>=1.21.1 in c:\\users\\pradeep.dhote\\psa-parcel-detector\\.conda\\lib\\site-packages (from requests>=2.26.0->tiktoken<1,>=0.7->langchain_openai) (2.5.0)\n",
      "Requirement already satisfied: colorama in c:\\users\\pradeep.dhote\\psa-parcel-detector\\.conda\\lib\\site-packages (from tqdm>4->openai<2.0.0,>=1.86.0->langchain_openai) (0.4.6)\n",
      "Downloading langchain_openai-0.3.26-py3-none-any.whl (70 kB)\n",
      "Downloading openai-1.92.2-py3-none-any.whl (753 kB)\n",
      "   ---------------------------------------- 0.0/753.3 kB ? eta -:--:--\n",
      "   --------------------------------------- 753.3/753.3 kB 15.8 MB/s eta 0:00:00\n",
      "Using cached tiktoken-0.9.0-cp312-cp312-win_amd64.whl (894 kB)\n",
      "Using cached distro-1.9.0-py3-none-any.whl (20 kB)\n",
      "Using cached jiter-0.10.0-cp312-cp312-win_amd64.whl (206 kB)\n",
      "Using cached regex-2024.11.6-cp312-cp312-win_amd64.whl (273 kB)\n",
      "Installing collected packages: regex, jiter, distro, tiktoken, openai, langchain_openai\n",
      "Successfully installed distro-1.9.0 jiter-0.10.0 langchain_openai-0.3.26 openai-1.92.2 regex-2024.11.6 tiktoken-0.9.0\n"
     ]
    }
   ],
   "source": [
    "!pip install langchain_openai"
   ]
  },
  {
   "cell_type": "code",
   "execution_count": 12,
   "metadata": {},
   "outputs": [],
   "source": [
    "from typing import Annotated\n",
    "from langgraph.graph import StateGraph, START, END\n",
    "from langgraph.graph.message import add_messages\n",
    "from dotenv import load_dotenv\n",
    "from IPython.display import Image, display\n",
    "import gradio as gr\n",
    "from langgraph.graph import StateGraph\n",
    "from langgraph.graph.message import add_messages\n",
    "from langchain_openai import ChatOpenAI\n",
    "from pydantic import BaseModel\n",
    "import random\n"
   ]
  },
  {
   "cell_type": "code",
   "execution_count": 13,
   "metadata": {},
   "outputs": [],
   "source": [
    "# Some useful constants\n",
    "\n",
    "nouns = [\"Cabbages\", \"Unicorns\", \"Toasters\", \"Penguins\", \"Bananas\", \"Zombies\", \"Rainbows\", \"Eels\", \"Pickles\", \"Muffins\"]\n",
    "adjectives = [\"outrageous\", \"smelly\", \"pedantic\", \"existential\", \"moody\", \"sparkly\", \"untrustworthy\", \"sarcastic\", \"squishy\", \"haunted\"]"
   ]
  },
  {
   "cell_type": "code",
   "execution_count": 15,
   "metadata": {},
   "outputs": [
    {
     "data": {
      "text/plain": [
       "True"
      ]
     },
     "execution_count": 15,
     "metadata": {},
     "output_type": "execute_result"
    }
   ],
   "source": [
    "# Our favorite first step! Crew was doing this for us, by the way.\n",
    "load_dotenv(override=True)\n"
   ]
  },
  {
   "cell_type": "code",
   "execution_count": 16,
   "metadata": {},
   "outputs": [
    {
     "name": "stdout",
     "output_type": "stream",
     "text": [
      "HELLO\n"
     ]
    },
    {
     "data": {
      "text/plain": [
       "'HELLO'"
      ]
     },
     "execution_count": 16,
     "metadata": {},
     "output_type": "execute_result"
    }
   ],
   "source": [
    "def shout(text: Annotated[str, \"something to be shouted\"]) -> str:\n",
    "    print(text.upper())\n",
    "    return text.upper()\n",
    "\n",
    "shout(\"hello\")"
   ]
  },
  {
   "cell_type": "markdown",
   "metadata": {},
   "source": [
    "### A word about \"Annotated\"\n",
    "\n",
    "You probably know this; type hinting is a feature in Python that lets you specify the type of something:\n",
    "\n",
    "`my_favorite_things: List`\n",
    "\n",
    "But you may not know this:\n",
    "\n",
    "You can also use something called \"Annotated\" to add extra information that somebody else might find useful:\n",
    "\n",
    "`my_favorite_things: Annotated[List, \"these are a few of mine\"]`\n",
    "\n",
    "LangGraph needs us to use this feature when we define our State object.\n",
    "\n",
    "It wants us to tell , what function it should call to update the State with a new value.\n",
    "\n",
    "This function is called a **reducer**.\n",
    "\n",
    "LangGraph provides a default reducer called `add_messages` which takes care of the most common case.\n",
    "\n",
    "And that hopefully explains why the State looks like this.\n",
    "\n",
    "\n"
   ]
  },
  {
   "cell_type": "markdown",
   "metadata": {},
   "source": [
    "### Step 1: Define the State object\n",
    "\n",
    "You can use any python object; but it's most common to use a TypedDict or a Pydantic BaseModel."
   ]
  },
  {
   "cell_type": "code",
   "execution_count": 17,
   "metadata": {},
   "outputs": [],
   "source": [
    "\n",
    "class State(BaseModel):\n",
    "        \n",
    "    messages: Annotated[list, add_messages]\n"
   ]
  },
  {
   "cell_type": "markdown",
   "metadata": {},
   "source": [
    "### Step 2: Start the Graph Builder with this State class"
   ]
  },
  {
   "cell_type": "code",
   "execution_count": 18,
   "metadata": {},
   "outputs": [],
   "source": [
    "graph_builder = StateGraph(State)"
   ]
  },
  {
   "cell_type": "markdown",
   "metadata": {},
   "source": [
    "### Step 3: Create a Node\n",
    "\n",
    "A node can be any python function.\n",
    "\n",
    "The reducer that we set before gets automatically called to combine this response with previous responses\n"
   ]
  },
  {
   "cell_type": "code",
   "execution_count": 19,
   "metadata": {},
   "outputs": [
    {
     "data": {
      "text/plain": [
       "<langgraph.graph.state.StateGraph at 0x1b5c9ba89e0>"
      ]
     },
     "execution_count": 19,
     "metadata": {},
     "output_type": "execute_result"
    }
   ],
   "source": [
    "def our_first_node(old_state: State) -> State:\n",
    "\n",
    "    reply = f\"{random.choice(nouns)} are {random.choice(adjectives)}\"\n",
    "    messages = [{\"role\": \"assistant\", \"content\": reply}]\n",
    "\n",
    "    new_state = State(messages=messages)\n",
    "\n",
    "    return new_state\n",
    "\n",
    "graph_builder.add_node(\"first_node\", our_first_node)"
   ]
  },
  {
   "cell_type": "markdown",
   "metadata": {},
   "source": [
    "### Step 4: Create Edges"
   ]
  },
  {
   "cell_type": "code",
   "execution_count": 20,
   "metadata": {},
   "outputs": [
    {
     "data": {
      "text/plain": [
       "<langgraph.graph.state.StateGraph at 0x1b5c9ba89e0>"
      ]
     },
     "execution_count": 20,
     "metadata": {},
     "output_type": "execute_result"
    }
   ],
   "source": [
    "graph_builder.add_edge(START, \"first_node\")\n",
    "graph_builder.add_edge(\"first_node\", END)"
   ]
  },
  {
   "cell_type": "markdown",
   "metadata": {},
   "source": [
    "### Step 5: Compile the Graph"
   ]
  },
  {
   "cell_type": "code",
   "execution_count": 21,
   "metadata": {},
   "outputs": [],
   "source": [
    "graph = graph_builder.compile()"
   ]
  },
  {
   "cell_type": "code",
   "execution_count": 22,
   "metadata": {},
   "outputs": [
    {
     "data": {
      "image/png": "[encoded data removed]",
      "text/plain": [
       "<IPython.core.display.Image object>"
      ]
     },
     "metadata": {},
     "output_type": "display_data"
    }
   ],
   "source": [
    "display(Image(graph.get_graph().draw_mermaid_png()))"
   ]
  },
  {
   "cell_type": "markdown",
   "metadata": {},
   "source": [
    "### That's it! Showtime!"
   ]
  },
  {
   "cell_type": "code",
   "execution_count": null,
   "metadata": {},
   "outputs": [
    {
     "name": "stdout",
     "output_type": "stream",
     "text": [
      "* Running on local URL:  http://127.0.0.1:7860\n",
      "* To create a public link, set `share=True` in `launch()`.\n"
     ]
    },
    {
     "data": {
      "text/html": [
       "<div><iframe src=\"http://127.0.0.1:7860/\" width=\"100%\" height=\"500\" allow=\"autoplay; camera; microphone; clipboard-read; clipboard-write;\" frameborder=\"0\" allowfullscreen></iframe></div>"
      ],
      "text/plain": [
       "<IPython.core.display.HTML object>"
      ]
     },
     "metadata": {},
     "output_type": "display_data"
    },
    {
     "data": {
      "text/plain": []
     },
     "execution_count": 23,
     "metadata": {},
     "output_type": "execute_result"
    },
    {
     "name": "stdout",
     "output_type": "stream",
     "text": [
      "{'messages': [HumanMessage(content='hi', additional_kwargs={}, response_metadata={}, id='de08e9fe-1a64-4266-8ab8-82f09692a43f'), AIMessage(content='Rainbows are smelly', additional_kwargs={}, response_metadata={}, id='f895f91e-c5dd-4437-871d-9d312345e9d7')]}\n",
      "{'messages': [HumanMessage(content='how', additional_kwargs={}, response_metadata={}, id='8f1e6f13-81e2-4aeb-9724-5b8f2acf1de5'), AIMessage(content='Zombies are pedantic', additional_kwargs={}, response_metadata={}, id='36d83ee0-8cb7-4099-8676-5cfb27af4870')]}\n",
      "{'messages': [HumanMessage(content='me', additional_kwargs={}, response_metadata={}, id='c950f68b-67e0-4c25-a3e1-3e7ee9746972'), AIMessage(content='Unicorns are existential', additional_kwargs={}, response_metadata={}, id='2335595a-0fe8-44b4-bee1-7d109f297578')]}\n",
      "{'messages': [HumanMessage(content='you', additional_kwargs={}, response_metadata={}, id='f610e9ff-43de-4185-8547-17d3ee094e35'), AIMessage(content='Cabbages are haunted', additional_kwargs={}, response_metadata={}, id='61a05d57-a155-42fe-8d83-7b0a6b59a14e')]}\n",
      "{'messages': [HumanMessage(content='sure?', additional_kwargs={}, response_metadata={}, id='5fd155fd-cc1e-459f-be92-7fcd41b36cdd'), AIMessage(content='Muffins are haunted', additional_kwargs={}, response_metadata={}, id='bef9d49c-5b04-46a1-a054-3bb792451539')]}\n",
      "{'messages': [HumanMessage(content='realy ?', additional_kwargs={}, response_metadata={}, id='0eafce37-e752-4a99-9388-1cf95ef3e15e'), AIMessage(content='Toasters are existential', additional_kwargs={}, response_metadata={}, id='b42e2e64-f81e-4bda-8b40-018f635b2ed7')]}\n",
      "{'messages': [HumanMessage(content='?', additional_kwargs={}, response_metadata={}, id='7f96adbf-7dec-4fce-bc5b-28f657eaa397'), AIMessage(content='Zombies are moody', additional_kwargs={}, response_metadata={}, id='b208588e-f894-43e3-9d7a-2bbb7a9edc96')]}\n",
      "{'messages': [HumanMessage(content='not its bed', additional_kwargs={}, response_metadata={}, id='0409ebdd-0f9c-48c8-a3a8-57c318b74033'), AIMessage(content='Bananas are moody', additional_kwargs={}, response_metadata={}, id='c6640749-d7bb-4895-bb3b-fcd38c626011')]}\n"
     ]
    }
   ],
   "source": [
    "def chat(user_input: str, history):\n",
    "    message = {\"role\": \"user\", \"content\": user_input}\n",
    "    messages = [message]\n",
    "    state = State(messages=messages)\n",
    "    result = graph.invoke(state)\n",
    "    print(result)\n",
    "    return result[\"messages\"][-1].content\n",
    "\n",
    "\n",
    "gr.ChatInterface(chat, type=\"messages\").launch()"
   ]
  },
  {
   "cell_type": "markdown",
   "metadata": {},
   "source": [
    "### But why did I show you that?\n",
    "\n",
    "To make the point that LangGraph is all about python functions - it doesn't need to involve LLMs!!\n",
    "\n",
    "Now we'll do the 5 steps again, but in 1 shot:"
   ]
  },
  {
   "cell_type": "code",
   "execution_count": 24,
   "metadata": {},
   "outputs": [],
   "source": [
    "# Step 1: Define the State object\n",
    "class State(BaseModel):\n",
    "    messages: Annotated[list, add_messages]\n"
   ]
  },
  {
   "cell_type": "markdown",
   "metadata": {},
   "source": [
    "Step 1 in LangGraph: Define the State object\n",
    "\n",
    "-In LangGraph, the State object represents the data that flows through your graph.\n",
    "\n",
    "-It's usually a class (often a Pydantic BaseModel) that defines the structure of your state.\n",
    "\n",
    "-Each field in the State can be annotated to specify how it should be updated.\n",
    " \n",
    " For example, here we use Annotated with add_messages to tell LangGraph how to handle the 'messages' list.\n",
    "\n",
    "'''class State(BaseModel):\n",
    "    messages: Annotated[list, add_messages]'''\n",
    "\n",
    "This tells LangGraph:\n",
    " - The state will have a 'messages' field (a list).\n",
    " - When nodes return new messages, LangGraph will use the add_messages reducer to combine them."
   ]
  },
  {
   "cell_type": "code",
   "execution_count": 25,
   "metadata": {},
   "outputs": [],
   "source": [
    "# Step 2: Start the Graph Builder with this State class\n",
    "graph_builder = StateGraph(State)\n"
   ]
  },
  {
   "cell_type": "markdown",
   "metadata": {},
   "source": [
    "Step 2: Start the Graph Builder with this State class\n",
    "\n",
    "In this step, you initialize a `StateGraph` using your `State` class. This sets up the structure for your LangGraph workflow, telling it what kind of data (state) will flow through the graph.\n",
    "\n",
    "In simple terms, a \"graph builder\" is like a tool that helps you draw a flowchart for your program.\n",
    "\n",
    "You use it to set up the steps (nodes) and how they connect (edges), so your program knows what to do next at each step.\n",
    "\n",
    "It's like planning a route on a map: you decide where to start, what stops to make, and where to finish.\n"
   ]
  },
  {
   "cell_type": "code",
   "execution_count": 26,
   "metadata": {},
   "outputs": [
    {
     "data": {
      "text/plain": [
       "<langgraph.graph.state.StateGraph at 0x1b5ca11d700>"
      ]
     },
     "execution_count": 26,
     "metadata": {},
     "output_type": "execute_result"
    }
   ],
   "source": [
    "# Step 3: Create a Node\n",
    "\n",
    "llm = ChatOpenAI(model=\"gpt-4o-mini\")\n",
    "\n",
    "def chatbot_node(old_state: State) -> State:\n",
    "    response = llm.invoke(old_state.messages)\n",
    "    new_state = State(messages=[response])\n",
    "    return new_state\n",
    "\n",
    "graph_builder.add_node(\"chatbot\", chatbot_node)"
   ]
  },
  {
   "cell_type": "markdown",
   "metadata": {},
   "source": [
    "Step 3: Create a Node\n",
    "\n",
    "In simple terms, a \"node\" is just a step in your workflow—a function that does something with your data.\n",
    "\n",
    "Think of it like a station on a train route: at each station (node), something happens to your package (data) before it moves to the next station.\n",
    "\n",
    "Example:\n",
    "\n",
    "Suppose you want your chatbot to reply to a user's message. You create a node (function) that takes the user's message, sends it to the language model, and gets a response.\n"
   ]
  },
  {
   "cell_type": "code",
   "execution_count": 27,
   "metadata": {},
   "outputs": [
    {
     "data": {
      "text/plain": [
       "<langgraph.graph.state.StateGraph at 0x1b5ca11d700>"
      ]
     },
     "execution_count": 27,
     "metadata": {},
     "output_type": "execute_result"
    }
   ],
   "source": [
    "# Step 4: Create Edges\n",
    "graph_builder.add_edge(START, \"chatbot\")\n",
    "graph_builder.add_edge(\"chatbot\", END)"
   ]
  },
  {
   "cell_type": "markdown",
   "metadata": {},
   "source": [
    "In simple terms, \"edges\" are like arrows that show how you move from one step (node) to another in your workflow.\n",
    "\n",
    "Imagine you have a flowchart:\n",
    "- You start at the \"Start\" point.\n",
    "- You go to the \"chatbot\" step.\n",
    "- Then you finish at the \"End\" point.\n",
    "\n",
    "Edges connect these steps, telling your program what order to follow.\n",
    "\n",
    "\n",
    "________________________________\n",
    "Think of it like connecting the dots in a flowchart:  \n",
    "- You draw a line from the **start** to your first step (node).\n",
    "- Then, you draw a line from that step to the **end**.\n",
    "\n",
    "**Example:**  \n",
    "If you want your chatbot to run as soon as the workflow starts and then finish, you connect it like this:\n",
    "\n",
    "- From `START` to `\"chatbot\"`\n",
    "- From `\"chatbot\"` to `END`\n",
    "\n",
    "This tells LangGraph the order in which to run your steps."
   ]
  },
  {
   "cell_type": "code",
   "execution_count": 28,
   "metadata": {},
   "outputs": [
    {
     "data": {
      "image/png": "[encoded data removed]",
      "text/plain": [
       "<IPython.core.display.Image object>"
      ]
     },
     "metadata": {},
     "output_type": "display_data"
    }
   ],
   "source": [
    "# Step 5: Compile the Graph\n",
    "graph = graph_builder.compile()\n",
    "display(Image(graph.get_graph().draw_mermaid_png()))"
   ]
  },
  {
   "cell_type": "markdown",
   "metadata": {},
   "source": [
    "What does \"compile the graph\" mean?**\n",
    "\n",
    "Think of all the steps you set up (nodes and edges) as a rough sketch of your workflow.  \n",
    "When you \"compile\" the graph, you tell LangGraph to put everything together and get it ready to run.\n",
    "\n",
    "It's like finishing your flowchart and pressing a button to make it work as an actual program.\n",
    "\n",
    "In simple terms:**  \n",
    "- You built the plan (the graph).\n",
    "- Now you \"compile\" it so the computer knows exactly what to do, step by step.\n",
    "\n",
    "After compiling, you can use your graph to process messages and run your chatbot!"
   ]
  },
  {
   "cell_type": "markdown",
   "metadata": {},
   "source": [
    "### That's it! And, let's do this:"
   ]
  },
  {
   "cell_type": "code",
   "execution_count": 32,
   "metadata": {},
   "outputs": [
    {
     "name": "stdout",
     "output_type": "stream",
     "text": [
      "* Running on local URL:  http://127.0.0.1:7862\n",
      "* To create a public link, set `share=True` in `launch()`.\n"
     ]
    },
    {
     "data": {
      "text/html": [
       "<div><iframe src=\"http://127.0.0.1:7862/\" width=\"100%\" height=\"500\" allow=\"autoplay; camera; microphone; clipboard-read; clipboard-write;\" frameborder=\"0\" allowfullscreen></iframe></div>"
      ],
      "text/plain": [
       "<IPython.core.display.HTML object>"
      ]
     },
     "metadata": {},
     "output_type": "display_data"
    },
    {
     "data": {
      "text/plain": []
     },
     "execution_count": 32,
     "metadata": {},
     "output_type": "execute_result"
    },
    {
     "name": "stdout",
     "output_type": "stream",
     "text": [
      "{'messages': [HumanMessage(content='hi', additional_kwargs={}, response_metadata={}, id='bc2bc3f0-6bb0-400d-8227-7883a6700e24'), AIMessage(content='Hello! How can I assist you today?', additional_kwargs={'refusal': None}, response_metadata={'token_usage': {'completion_tokens': 9, 'prompt_tokens': 8, 'total_tokens': 17, 'completion_tokens_details': {'accepted_prediction_tokens': 0, 'audio_tokens': 0, 'reasoning_tokens': 0, 'rejected_prediction_tokens': 0}, 'prompt_tokens_details': {'audio_tokens': 0, 'cached_tokens': 0}}, 'model_name': 'gpt-4o-mini-2024-07-18', 'system_fingerprint': 'fp_34a54ae93c', 'id': 'chatcmpl-BnJQfHzt00jlFzPnoR9VDXo5cN2Xu', 'service_tier': 'default', 'finish_reason': 'stop', 'logprobs': None}, id='run--a2f43ebb-c385-4f8e-b9f3-55ee482c81aa-0', usage_metadata={'input_tokens': 8, 'output_tokens': 9, 'total_tokens': 17, 'input_token_details': {'audio': 0, 'cache_read': 0}, 'output_token_details': {'audio': 0, 'reasoning': 0}})]}\n",
      "{'messages': [HumanMessage(content='me is Pradeep', additional_kwargs={}, response_metadata={}, id='cceeebd4-3d2e-4b95-bf71-0c74ef668fe2'), AIMessage(content='Hello, Pradeep! How can I assist you today?', additional_kwargs={'refusal': None}, response_metadata={'token_usage': {'completion_tokens': 13, 'prompt_tokens': 12, 'total_tokens': 25, 'completion_tokens_details': {'accepted_prediction_tokens': 0, 'audio_tokens': 0, 'reasoning_tokens': 0, 'rejected_prediction_tokens': 0}, 'prompt_tokens_details': {'audio_tokens': 0, 'cached_tokens': 0}}, 'model_name': 'gpt-4o-mini-2024-07-18', 'system_fingerprint': 'fp_34a54ae93c', 'id': 'chatcmpl-BnJQn0l58ofcP1gQrj8UVPNCdTZS1', 'service_tier': 'default', 'finish_reason': 'stop', 'logprobs': None}, id='run--4318d5a2-dddb-4708-a974-a8d470aa5196-0', usage_metadata={'input_tokens': 12, 'output_tokens': 13, 'total_tokens': 25, 'input_token_details': {'audio': 0, 'cache_read': 0}, 'output_token_details': {'audio': 0, 'reasoning': 0}})]}\n",
      "{'messages': [HumanMessage(content='can you tell about me ,whats my name ,what i do ?', additional_kwargs={}, response_metadata={}, id='f2379577-b3e7-49bb-b8d1-b4e2c435c2f7'), AIMessage(content=\"I'm sorry, but I don't have access to personal data about individuals unless it has been shared with me in the course of our conversation. I can't know your name or what you do. However, if you tell me about yourself, I would be happy to engage in a conversation based on that information!\", additional_kwargs={'refusal': None}, response_metadata={'token_usage': {'completion_tokens': 60, 'prompt_tokens': 22, 'total_tokens': 82, 'completion_tokens_details': {'accepted_prediction_tokens': 0, 'audio_tokens': 0, 'reasoning_tokens': 0, 'rejected_prediction_tokens': 0}, 'prompt_tokens_details': {'audio_tokens': 0, 'cached_tokens': 0}}, 'model_name': 'gpt-4o-mini-2024-07-18', 'system_fingerprint': 'fp_34a54ae93c', 'id': 'chatcmpl-BnJRfuV8SUZwj3Am0I2eeHeDgojv7', 'service_tier': 'default', 'finish_reason': 'stop', 'logprobs': None}, id='run--6a65fde9-051f-40ab-9fd7-66d51fb526ab-0', usage_metadata={'input_tokens': 22, 'output_tokens': 60, 'total_tokens': 82, 'input_token_details': {'audio': 0, 'cache_read': 0}, 'output_token_details': {'audio': 0, 'reasoning': 0}})]}\n"
     ]
    }
   ],
   "source": [
    "def chat(user_input: str, history):\n",
    "    initial_state = State(messages=[{\"role\": \"user\", \"content\": user_input}])\n",
    "    result = graph.invoke(initial_state)\n",
    "    print(result)\n",
    "    return result['messages'][-1].content\n",
    "\n",
    "\n",
    "gr.ChatInterface(chat, type=\"messages\").launch()"
   ]
  },
  {
   "cell_type": "markdown",
   "metadata": {},
   "source": [
    "here ,is understading its  not able to remerber the history ,ant chat context "
   ]
  }
 ],
 "metadata": {
  "kernelspec": {
   "display_name": "Python 3",
   "language": "python",
   "name": "python3"
  },
  "language_info": {
   "codemirror_mode": {
    "name": "ipython",
    "version": 3
   },
   "file_extension": ".py",
   "mimetype": "text/x-python",
   "name": "python",
   "nbconvert_exporter": "python",
   "pygments_lexer": "ipython3",
   "version": "3.12.9"
  }
 },
 "nbformat": 4,
 "nbformat_minor": 2
}
